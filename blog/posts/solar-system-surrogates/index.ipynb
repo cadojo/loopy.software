{
 "cells": [
  {
   "attachments": {},
   "cell_type": "raw",
   "metadata": {},
   "source": [
    "---\n",
    "title: Surrogatizing our Solar System\n",
    "subtitle: Model (re-)discovery!\n",
    "date: today\n",
    "\n",
    "draft: true\n",
    "\n",
    "format:\n",
    "  html: default\n",
    "  ipynb: \n",
    "    embed-resources: true\n",
    "    output-file: solar-system-surrogates.ipynb\n",
    "\n",
    "pre-render: julia -e 'import Pkg; Pkg.activate(\".\"); Pkg.instantiate()'\n",
    "\n",
    "categories:\n",
    "  - Julia\n",
    "  - Dynamics\n",
    "  - Space\n",
    "  - Technical\n",
    "\n",
    "execute:\n",
    "  echo: true\n",
    "  output: true\n",
    "---"
   ]
  },
  {
   "attachments": {},
   "cell_type": "markdown",
   "metadata": {},
   "source": [
    "## Who's Tracking the Solar System?\n",
    "\n",
    "NASA, of course! NASA's Jet Propulsion Laboratory (JPL) offers an excellent service: \n",
    "free solar system ephemeris data through the [Horizons](https://ssd.jpl.nasa.gov/horizons/)\n",
    "interface."
   ]
  },
  {
   "cell_type": "code",
   "execution_count": 1,
   "metadata": {},
   "outputs": [],
   "source": [
    "#| echo: false\n",
    "#| output: false\n",
    "begin\n",
    "    using Dates\n",
    "    using Plots\n",
    "    using HorizonsEphemeris\n",
    "    using AstrodynamicalModels\n",
    "end"
   ]
  },
  {
   "cell_type": "code",
   "execution_count": null,
   "metadata": {},
   "outputs": [],
   "source": []
  }
 ],
 "metadata": {
  "kernelspec": {
   "display_name": "Julia 1.8.5",
   "language": "julia",
   "name": "julia-1.8"
  },
  "language_info": {
   "file_extension": ".jl",
   "mimetype": "application/julia",
   "name": "julia",
   "version": "1.8.5"
  },
  "orig_nbformat": 4
 },
 "nbformat": 4,
 "nbformat_minor": 2
}
