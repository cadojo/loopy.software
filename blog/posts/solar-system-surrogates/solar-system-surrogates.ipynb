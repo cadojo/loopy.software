{
  "cells": [
    {
      "cell_type": "markdown",
      "metadata": {},
      "source": [
        "# Surrogatizing our Solar System\n",
        "\n",
        "Model (re-)discovery!\n",
        "\n",
        "Joe(y) Carpinelli  \n",
        "2023-06-25\n",
        "\n",
        "NASA, of course! NASA’s Jet Propulsion Laboratory (JPL) offers an\n",
        "excellent service: free solar system ephemeris data through the\n",
        "[Horizons](https://ssd.jpl.nasa.gov/horizons/) interface."
      ],
      "id": "9efc3bc0-1a1e-4608-8287-50ef9fdaa4e0"
    }
  ],
  "nbformat": 4,
  "nbformat_minor": 5,
  "metadata": {
    "kernelspec": {
      "name": "julia-1.9",
      "display_name": "Julia 1.9.0",
      "language": "julia"
    },
    "language_info": {
      "name": "julia",
      "file_extension": ".jl",
      "mimetype": "application/julia",
      "version": "1.9.0"
    }
  }
}