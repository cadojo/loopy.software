{
  "cells": [
    {
      "cell_type": "markdown",
      "metadata": {},
      "source": [
        "# Surrogatizing our Solar System\n",
        "\n",
        "Model (re-)discovery!\n",
        "\n",
        "Joe(y) Carpinelli  \n",
        "2023-05-07\n",
        "\n",
        "## Who’s Tracking the Solar System?\n",
        "\n",
        "NASA, of course! NASA’s Jet Propulsion Laboratory (JPL) offers an\n",
        "excellent service: free solar system ephemeris data through the\n",
        "[Horizons](https://ssd.jpl.nasa.gov/horizons/) interface."
      ],
      "id": "7386d105-3b52-4a6b-9bf7-83506321bb69"
    }
  ],
  "nbformat": 4,
  "nbformat_minor": 5,
  "metadata": {
    "kernelspec": {
      "name": "julia-1.8",
      "display_name": "Julia 1.8.5",
      "language": "julia"
    },
    "language_info": {
      "name": "julia",
      "file_extension": ".jl",
      "mimetype": "application/julia",
      "version": "1.8.5"
    },
    "orig_nbformat": "4"
  }
}