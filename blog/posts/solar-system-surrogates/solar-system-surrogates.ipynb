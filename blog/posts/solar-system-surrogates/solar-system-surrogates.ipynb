{
  "cells": [
    {
      "cell_type": "markdown",
      "metadata": {},
      "source": [
        "# Surrogatizing our Solar System\n",
        "\n",
        "Model (re-)discovery!\n",
        "\n",
        "Joe(y) Carpinelli  \n",
        "2023-07-11\n",
        "\n",
        "NASA, of course! NASA’s Jet Propulsion Laboratory (JPL) offers an\n",
        "excellent service: free solar system ephemeris data through the\n",
        "[Horizons](https://ssd.jpl.nasa.gov/horizons/) interface."
      ],
      "id": "3ac9a36e-9f37-4536-8929-4f55b32e0829"
    }
  ],
  "nbformat": 4,
  "nbformat_minor": 5,
  "metadata": {
    "kernelspec": {
      "name": "julia-1.9",
      "display_name": "Julia 1.9.0",
      "language": "julia"
    },
    "language_info": {
      "name": "julia",
      "file_extension": ".jl",
      "mimetype": "application/julia",
      "version": "1.9.0"
    }
  }
}