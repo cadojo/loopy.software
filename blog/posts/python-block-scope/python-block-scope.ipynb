{
  "cells": [
    {
      "cell_type": "markdown",
      "metadata": {},
      "source": [
        "# Adding Block Scope to Python\n",
        "\n",
        "Joe(y) Carpinelli  \n",
        "2022-08-17\n",
        "\n",
        "> **Caution**\n",
        ">\n",
        "> **This post is in-development.** Check back later!\n",
        "\n",
        "------------------------------------------------------------------------\n",
        "\n",
        "## Python Scoping\n",
        "\n",
        "When you start a Python process, what variables are already defined? If\n",
        "you start a **standard Python 3.10 interpreter** and call `locals()`,\n",
        "you’ll see the following output (on MacOs). You’ll also find that\n",
        "`locals() == globals()` evaluates to `True`! What do the `locals` and\n",
        "`globals` functions *do*, and how does Python scoping work? Can you use\n",
        "“block scoping” in Python? All of these questions are answered in this\n",
        "post!\n",
        "\n",
        "> **`python -c 'print(locals())' # on MacOs, with some human formatting for readability`**\n",
        ">\n",
        ">     {\n",
        ">       '__name__': '__main__', \n",
        ">       '__doc__': None, \n",
        ">       '__package__': None, \n",
        ">       '__loader__': <class '_frozen_importlib.BuiltinImporter'>, \n",
        ">       '__spec__': None, \n",
        ">       '__annotations__': {}, \n",
        ">       '__builtins__': <module 'builtins' (built-in)>\n",
        ">     }\n",
        "\n",
        "If you use `IPython`, you’ll find a lot more in your global namespace!\n",
        "`IPython` has to track your command history *somewhere*, right? It turns\n",
        "out that your command history, and other `IPython` metadata are all\n",
        "stored as Python variables in the same Jupyter kernel as your code! Each\n",
        "of these non-user-facing variables (variables that `IPython` doesn’t\n",
        "expect you to use) are named with a leading underscore; this is a common\n",
        "pattern in Python."
      ],
      "id": "62a29821-608c-4dc6-8c7c-dd669ade6b03"
    },
    {
      "cell_type": "code",
      "execution_count": 2,
      "metadata": {},
      "outputs": [
        {
          "output_type": "display_data",
          "metadata": {},
          "data": {
            "text/html": [
              "<pre style=\"white-space:pre;overflow-x:auto;line-height:normal;font-family:Menlo,'DejaVu Sans Mono',consolas,'Courier New',monospace\">\n",
              "<span style=\"font-weight: bold\">{</span>\n",
              "    <span style=\"color: #008000; text-decoration-color: #008000\">'__name__'</span>: <span style=\"color: #008000; text-decoration-color: #008000\">'__main__'</span>,\n",
              "    <span style=\"color: #008000; text-decoration-color: #008000\">'__builtin__'</span>: <span style=\"font-weight: bold\">&lt;</span><span style=\"color: #ff00ff; text-decoration-color: #ff00ff; font-weight: bold\">module</span><span style=\"color: #000000; text-decoration-color: #000000\"> </span><span style=\"color: #008000; text-decoration-color: #008000\">'builtins'</span><span style=\"color: #000000; text-decoration-color: #000000\"> </span><span style=\"color: #000000; text-decoration-color: #000000; font-weight: bold\">(</span><span style=\"color: #000000; text-decoration-color: #000000\">built-in</span><span style=\"color: #000000; text-decoration-color: #000000; font-weight: bold\">)</span><span style=\"font-weight: bold\">&gt;</span>,\n",
              "    <span style=\"color: #008000; text-decoration-color: #008000\">'__builtins__'</span>: <span style=\"font-weight: bold\">&lt;</span><span style=\"color: #ff00ff; text-decoration-color: #ff00ff; font-weight: bold\">module</span><span style=\"color: #000000; text-decoration-color: #000000\"> </span><span style=\"color: #008000; text-decoration-color: #008000\">'builtins'</span><span style=\"color: #000000; text-decoration-color: #000000\"> </span><span style=\"color: #000000; text-decoration-color: #000000; font-weight: bold\">(</span><span style=\"color: #000000; text-decoration-color: #000000\">built-in</span><span style=\"color: #000000; text-decoration-color: #000000; font-weight: bold\">)</span><span style=\"font-weight: bold\">&gt;</span>,\n",
              "    <span style=\"color: #008000; text-decoration-color: #008000\">'_ih'</span>: <span style=\"font-weight: bold\">[</span>\n",
              "        <span style=\"color: #008000; text-decoration-color: #008000\">''</span>,\n",
              "        <span style=\"color: #008000; text-decoration-color: #008000\">'import rich.traceback, rich.pretty\\nrich.traceback.install()\\nrich.pretty.install()\\n\\ndel rich'</span>,\n",
              "        <span style=\"color: #008000; text-decoration-color: #008000\">'locals()'</span>\n",
              "    <span style=\"font-weight: bold\">]</span>,\n",
              "    <span style=\"color: #008000; text-decoration-color: #008000\">'_oh'</span>: <span style=\"font-weight: bold\">{}</span>,\n",
              "    <span style=\"color: #008000; text-decoration-color: #008000\">'_dh'</span>: <span style=\"font-weight: bold\">[</span><span style=\"color: #800080; text-decoration-color: #800080; font-weight: bold\">PosixPath</span><span style=\"font-weight: bold\">(</span><span style=\"color: #008000; text-decoration-color: #008000\">'/Users/joey/FOSS/loopy.software/blog/posts/python-block-scope'</span><span style=\"font-weight: bold\">)]</span>,\n",
              "    <span style=\"color: #008000; text-decoration-color: #008000\">'In'</span>: <span style=\"font-weight: bold\">[</span>\n",
              "        <span style=\"color: #008000; text-decoration-color: #008000\">''</span>,\n",
              "        <span style=\"color: #008000; text-decoration-color: #008000\">'import rich.traceback, rich.pretty\\nrich.traceback.install()\\nrich.pretty.install()\\n\\ndel rich'</span>,\n",
              "        <span style=\"color: #008000; text-decoration-color: #008000\">'locals()'</span>\n",
              "    <span style=\"font-weight: bold\">]</span>,\n",
              "    <span style=\"color: #008000; text-decoration-color: #008000\">'Out'</span>: <span style=\"font-weight: bold\">{}</span>,\n",
              "    <span style=\"color: #008000; text-decoration-color: #008000\">'get_ipython'</span>: <span style=\"font-weight: bold\">&lt;</span><span style=\"color: #ff00ff; text-decoration-color: #ff00ff; font-weight: bold\">bound</span><span style=\"color: #000000; text-decoration-color: #000000\"> method InteractiveShell.get_ipython of &lt;ipykernel.zmqshell.ZMQInteractiveShell object at </span><span style=\"color: #008080; text-decoration-color: #008080; font-weight: bold\">0x103b6fbb0</span><span style=\"font-weight: bold\">&gt;</span>&gt;,\n",
              "    <span style=\"color: #008000; text-decoration-color: #008000\">'exit'</span>: <span style=\"font-weight: bold\">&lt;</span><span style=\"color: #ff00ff; text-decoration-color: #ff00ff; font-weight: bold\">IPython.core.autocall.ZMQExitAutocall</span><span style=\"color: #000000; text-decoration-color: #000000\"> object at </span><span style=\"color: #008080; text-decoration-color: #008080; font-weight: bold\">0x103bd84f0</span><span style=\"font-weight: bold\">&gt;</span>,\n",
              "    <span style=\"color: #008000; text-decoration-color: #008000\">'quit'</span>: <span style=\"font-weight: bold\">&lt;</span><span style=\"color: #ff00ff; text-decoration-color: #ff00ff; font-weight: bold\">IPython.core.autocall.ZMQExitAutocall</span><span style=\"color: #000000; text-decoration-color: #000000\"> object at </span><span style=\"color: #008080; text-decoration-color: #008080; font-weight: bold\">0x103bd84f0</span><span style=\"font-weight: bold\">&gt;</span>,\n",
              "    <span style=\"color: #008000; text-decoration-color: #008000\">'ojs_define'</span>: <span style=\"font-weight: bold\">&lt;</span><span style=\"color: #ff00ff; text-decoration-color: #ff00ff; font-weight: bold\">function</span><span style=\"color: #000000; text-decoration-color: #000000\"> ojs_define at </span><span style=\"color: #008080; text-decoration-color: #008080; font-weight: bold\">0x11ac49f30</span><span style=\"font-weight: bold\">&gt;</span>,\n",
              "    <span style=\"color: #008000; text-decoration-color: #008000\">'_i'</span>: <span style=\"color: #008000; text-decoration-color: #008000\">'import rich.traceback, rich.pretty\\nrich.traceback.install()\\nrich.pretty.install()\\n\\ndel rich'</span>,\n",
              "    <span style=\"color: #008000; text-decoration-color: #008000\">'_ii'</span>: <span style=\"color: #008000; text-decoration-color: #008000\">''</span>,\n",
              "    <span style=\"color: #008000; text-decoration-color: #008000\">'_iii'</span>: <span style=\"color: #008000; text-decoration-color: #008000\">''</span>,\n",
              "    <span style=\"color: #008000; text-decoration-color: #008000\">'_i1'</span>: <span style=\"color: #008000; text-decoration-color: #008000\">'import rich.traceback, rich.pretty\\nrich.traceback.install()\\nrich.pretty.install()\\n\\ndel rich'</span>,\n",
              "    <span style=\"color: #008000; text-decoration-color: #008000\">'_i2'</span>: <span style=\"color: #008000; text-decoration-color: #008000\">'locals()'</span>\n",
              "<span style=\"font-weight: bold\">}</span>\n",
              "</pre>"
            ]
          }
        }
      ],
      "source": [
        "locals()"
      ],
      "id": "3be17014"
    },
    {
      "cell_type": "markdown",
      "metadata": {},
      "source": [
        "Let’s say you open up a Python\n",
        "[interpreter](https://docs.python.org/3/tutorial/interpreter.html), also\n",
        "known as a [REPL](https://en.wikipedia.org/wiki/Read–eval–print_loop),\n",
        "and define a variable `x`. Then, you write a function, which declares a\n",
        "local variable `x`. Next, you import `somemodule`, and reference\n",
        "`somemodule.x`. You now have three separate variables named `x`! When\n",
        "you continue to write code, which variable will Python pick when you\n",
        "type the letter `x`? The answer depends on the *context* of the code\n",
        "you’re writing. This concept in computer science is known as\n",
        "[*scope*](https://en.wikipedia.org/wiki/Scope_(computer_science)). There\n",
        "are are elements in a Python program, and practically all popular\n",
        "programming languages, which serve as proverbial *drawers*, or\n",
        "*containers*, for your variables. A developer might define a variable\n",
        "`x` in `somemodule`: that is `somemodule`’s variable `x`! The same\n",
        "developer, in the same program, might define a local variable `x` in a\n",
        "function: that is the function’s *local variable* `x`. Finally, the\n",
        "developer might set a variable `x` at the top-level of the program: that\n",
        "is the program’s *global variable* `x`.\n",
        "\n",
        "When a variable is used at some point in a program, Python will first\n",
        "check for the variable in *local scope*.\n",
        "\n",
        "And thank goodness! Imagine, for a moment,that Python did **not** check\n",
        "for the context in which a variable was used. In this alternate\n",
        "universe, Python simply assumes that each variable name is unique in a\n",
        "program. Everything would break rather quickly.\n",
        "\n",
        "You’ve probably heard that [Python doesn’t allow for private\n",
        "variables](https://docs.python.org/3/faq/programming.html#i-try-to-use-spam-and-i-get-an-error-about-someclassname-spam).[1]\n",
        "Using leading underscores in variable names to indicate the *intent* of\n",
        "private objects is a very common pattern in Python code. I do not like\n",
        "this! Part of the benefit of\n",
        "\n",
        "[1] Python 3.10\n",
        "[documentation](https://docs.python.org/3/faq/programming.html#i-try-to-use-spam-and-i-get-an-error-about-someclassname-spam)\n",
        "states: *“…an outside user can still deliberately access the\n",
        "`_classname__spam` attribute, and private values are visible in the\n",
        "object’s `__dict__`. Many Python programmers never bother to use private\n",
        "variable names at all.”*"
      ],
      "id": "156f7a00-e916-4dab-b96e-8abf71350406"
    }
  ],
  "nbformat": 4,
  "nbformat_minor": 5,
  "metadata": {
    "kernelspec": {
      "name": "python3",
      "display_name": "Python 3 (ipykernel)",
      "language": "python"
    },
    "language_info": {
      "name": "python",
      "codemirror_mode": {
        "name": "ipython",
        "version": "3"
      },
      "file_extension": ".py",
      "mimetype": "text/x-python",
      "nbconvert_exporter": "python",
      "pygments_lexer": "ipython3",
      "version": "3.10.11"
    }
  }
}